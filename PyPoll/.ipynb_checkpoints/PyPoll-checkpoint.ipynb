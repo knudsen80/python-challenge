{
 "cells": [
  {
   "cell_type": "code",
   "execution_count": 190,
   "metadata": {},
   "outputs": [
    {
     "name": "stdout",
     "output_type": "stream",
     "text": [
      "Election results\n",
      "-------------------------\n",
      "Total Votes: 803000\n",
      "-------------------------\n",
      "Vestal: 48.0% (385440)\n",
      "Torres: 44.0% (353320)\n",
      "Seth: 5.0% (40150)\n",
      "Cordin: 3.0% (24090)\n",
      "-------------------------\n",
      "Winner: Vestal\n",
      "-------------------------\n"
     ]
    }
   ],
   "source": [
    "# main.py for PyPoll\n",
    "\n",
    "import csv\n",
    "import os\n",
    "\n",
    "#Need to update csv file name below, which I don't consider a \"major re-write\".\n",
    "election_data_csv = 'election_data_1.csv'\n",
    "\n",
    "election_data_txt = election_data_csv.replace('csv','txt')\n",
    "election_results = os.path.join('results_'+ election_data_txt)\n",
    "\n",
    "total_votes = 0\n",
    "cand_list = []\n",
    "num_votes = {}\n",
    "perc_votes = {}\n",
    "max_votes = 0\n",
    "winner = \"\"\n",
    "\n",
    "with open(election_data_csv, newline='') as csvfile:\n",
    "\n",
    "    csvreader = csv.reader(csvfile, delimiter=',')\n",
    "    \n",
    "    # Skip headers\n",
    "    next(csvreader)\n",
    "\n",
    "    for row in csvreader:\n",
    "        total_votes += 1\n",
    "        cand = row[2]\n",
    "        if cand not in cand_list:\n",
    "            cand_list.append(cand)\n",
    "            num_votes[cand] = 1\n",
    "        else:\n",
    "            num_votes[cand] += 1\n",
    "    \n",
    "    for cand, votes in num_votes.items():\n",
    "        perc_votes[cand] = votes/total_votes\n",
    "        if votes>max_votes:\n",
    "            max_votes = votes\n",
    "            winner = cand\n",
    "\n",
    "# Print results to terminal\n",
    "print(\"Election results\")\n",
    "print(\"-------------------------\")\n",
    "print(\"Total Votes: \" + str(total_votes))\n",
    "print(\"-------------------------\")\n",
    "for cand, votes in num_votes.items():\n",
    "    print(cand + \": \" + str(\"{:.1f}\".format(100*perc_votes[cand])) + \"% (\" + str(votes) + \")\")\n",
    "print(\"-------------------------\")\n",
    "print(\"Winner: \" + winner)\n",
    "print(\"-------------------------\")\n",
    "\n",
    "# Print ressults to text file\n",
    "with open(election_results, 'w', newline=\"\") as text:\n",
    "    \n",
    "    # I googled how to print strings to text. Showed most recent way to do it is with {}.\n",
    "    # But this didn't work for my percentage line, so I used %s and %, which I had learned in codecademy\n",
    "    \n",
    "    text.write(\"Election results\" + \"\\n\")\n",
    "    text.write(\"-------------------------\" + \"\\n\")\n",
    "    text.write(\"Total Votes: %s\" % total_votes + \"\\n\")\n",
    "    text.write(\"-------------------------\" + \"\\n\")\n",
    "    for cand, votes in num_votes.items():\n",
    "        perc = \"{:.1f}\".format(100*perc_votes[cand])\n",
    "        text.write(\"%s\" % cand + \": %s\" % perc + \"% (\" + \"%s\" % votes + \")\" + \"\\n\")\n",
    "    text.write(\"-------------------------\" + \"\\n\")\n",
    "    text.write(\"Winner: \" + winner + \"\\n\")\n",
    "    text.write(\"-------------------------\" + \"\\n\")"
   ]
  },
  {
   "cell_type": "code",
   "execution_count": null,
   "metadata": {
    "collapsed": true
   },
   "outputs": [],
   "source": []
  }
 ],
 "metadata": {
  "kernelspec": {
   "display_name": "Python 3",
   "language": "python",
   "name": "python3"
  },
  "language_info": {
   "codemirror_mode": {
    "name": "ipython",
    "version": 3
   },
   "file_extension": ".py",
   "mimetype": "text/x-python",
   "name": "python",
   "nbconvert_exporter": "python",
   "pygments_lexer": "ipython3",
   "version": "3.6.3"
  }
 },
 "nbformat": 4,
 "nbformat_minor": 2
}
